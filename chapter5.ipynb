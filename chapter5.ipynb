{
  "nbformat": 4,
  "nbformat_minor": 0,
  "metadata": {
    "colab": {
      "name": "chapter5.ipynb",
      "version": "0.3.2",
      "provenance": [],
      "include_colab_link": true
    },
    "kernelspec": {
      "name": "python3",
      "display_name": "Python 3"
    }
  },
  "cells": [
    {
      "cell_type": "markdown",
      "metadata": {
        "id": "view-in-github",
        "colab_type": "text"
      },
      "source": [
        "<a href=\"https://colab.research.google.com/github/SojiroNishimura/deeplearning-from-scratch/blob/master/chapter5.ipynb\" target=\"_parent\"><img src=\"https://colab.research.google.com/assets/colab-badge.svg\" alt=\"Open In Colab\"/></a>"
      ]
    },
    {
      "cell_type": "markdown",
      "metadata": {
        "id": "I70b_VjXgm4x",
        "colab_type": "text"
      },
      "source": [
        "# 誤差逆伝播法\n",
        "ニューラルネットワークの学習を行うためには各層での勾配を求める必要がある。勾配は損失関数を数値微分することで求められるが、数値微分の計算は時間がかかる。誤差逆伝播法を使うことで各時点における出力を解析的に微分することができるため、効率的（=高速）に学習が完了する。"
      ]
    },
    {
      "cell_type": "markdown",
      "metadata": {
        "id": "80aem4ItkVU1",
        "colab_type": "text"
      },
      "source": [
        "## 連鎖律\n",
        "ある計算をグラフで表現した場合、左(始点)から右(終点)に向けて計算結果を伝達させていくことを**順伝播**という。逆に右(終点)から左(始点)に向けて、入力と各ノードにおける局所的な微分の値を掛け合わせていくことを**逆伝播**という。\n",
        "\n",
        "$y=f(x)$という計算の場合、逆伝播の入力を$E$とすると$E$とノードの計算を微分したもの=$\\frac{\\partial y}{\\partial x}$を掛け合わせた$E\\frac{\\partial y}{\\partial x}$がそのノードの逆伝播の出力となり、次の(1つ前の）ノードへの入力となる。\n",
        "\n",
        "### 合成関数\n",
        "合成関数=複数の関数によって構成される関数。例として$z=(x+y)^2$は以下の2式で構成される。\n",
        "\n",
        "$z = t^2$\\\n",
        "$t = x + y$\n",
        "\n",
        "連鎖律は以下のように定義される。\n",
        "\n",
        "> ある関数が合成関数で表される場合、その合成関数の微分は**合成関数を構成するそれぞれの関数の微分の積**によって表すことができる。\n",
        "\n",
        "上記の式に当てはめると以下のようになる。\n",
        "\n",
        "$$\\frac{\\partial z}{\\partial x} = \\frac{\\partial z}{\\partial t}\\frac{\\partial t}{\\partial x} = \\frac{\\partial z}{\\partial x}$$\n",
        "\n",
        "先ほどの式に適用すると以下のとおり。\n",
        "\n",
        "$$\\frac{\\partial z}{\\partial t} = 2t$$\\\n",
        "$$\\frac{\\partial t}{\\partial x} = 1$$\\\n",
        "$$\\frac{\\partial z}{\\partial x} = \\frac{\\partial z}{\\partial t}\\frac{\\partial t}{\\partial x} = 2t\\cdot1 = 2(x + y)$$"
      ]
    },
    {
      "cell_type": "markdown",
      "metadata": {
        "id": "jyPJ_Ad_00YO",
        "colab_type": "text"
      },
      "source": [
        "## 逆伝播\n",
        "「加算」「乗算」の各計算の逆伝播。\n",
        "\n",
        "### 加算ノードの逆伝播\n",
        "$z = x + y$の場合\n",
        "\n",
        "$$\\frac{\\partial z}{\\partial x} = 1$$\\\n",
        "$$\\frac{\\partial z}{\\partial y} = 1$$\n",
        "\n",
        "右側(上流)からの入力が$\\frac{\\partial L}{\\partial z}$とすると、加算ノードにおける逆伝播の出力はそれぞれ$\\frac{\\partial L}{\\partial z}\\cdot 1$となる。\n",
        "\n",
        "### 乗算ノードの逆伝播\n",
        "$z = xy$の場合\n",
        "\n",
        "$$\\frac{\\partial z}{\\partial x} = y$$\\\n",
        "$$\\frac{\\partial z}{\\partial y} = x$$\n",
        "\n",
        "右側(上流)からの入力が$\\frac{\\partial L}{\\partial z}$とすると、逆伝播の出力はそれぞれ以下のようになる。\n",
        "\n",
        "x方向への逆伝播：$\\frac{\\partial L}{\\partial z}\\cdot y$\\\n",
        "y方向への逆伝播：$\\frac{\\partial L}{\\partial z}\\cdot x$\n",
        "\n",
        "各ノードは以下のように実装できる。"
      ]
    },
    {
      "cell_type": "code",
      "metadata": {
        "id": "-lqN_amfYyLc",
        "colab_type": "code",
        "colab": {}
      },
      "source": [
        "# 乗算レイヤ\n",
        "class MulLayer:\n",
        "  def __init__(self):\n",
        "    self.x = None\n",
        "    self.y = None\n",
        "    \n",
        "  def forward(self, x, y):\n",
        "    self.x = x\n",
        "    self.y = y\n",
        "    out = x * y\n",
        "    \n",
        "    return out\n",
        "  \n",
        "  def backward(self, dout):\n",
        "    dx = dout * self.y # xとyをひっくり返す\n",
        "    dy = dout * self.x\n",
        "    \n",
        "    return dx, dy"
      ],
      "execution_count": 0,
      "outputs": []
    },
    {
      "cell_type": "code",
      "metadata": {
        "id": "NG0lqY706LzS",
        "colab_type": "code",
        "colab": {
          "base_uri": "https://localhost:8080/",
          "height": 34
        },
        "outputId": "3b464d1a-ed89-4690-d488-f3fc148a6a8e"
      },
      "source": [
        "# 消費税１０%で1個110円のりんごを2個買う場合の順伝播での計算\n",
        "apple = 100\n",
        "apple_num = 2\n",
        "tax = 1.1\n",
        "\n",
        "# layer\n",
        "mul_apple_layer = MulLayer()\n",
        "mul_tax_layer = MulLayer()\n",
        "\n",
        "# forward\n",
        "apple_price = mul_apple_layer.forward(apple, apple_num)\n",
        "price = mul_tax_layer.forward(apple_price, tax)\n",
        "\n",
        "print(price)"
      ],
      "execution_count": 2,
      "outputs": [
        {
          "output_type": "stream",
          "text": [
            "220.00000000000003\n"
          ],
          "name": "stdout"
        }
      ]
    },
    {
      "cell_type": "code",
      "metadata": {
        "id": "PHSZdxQP7G6Z",
        "colab_type": "code",
        "colab": {
          "base_uri": "https://localhost:8080/",
          "height": 34
        },
        "outputId": "28f88d10-2d63-4b5a-f438-abb09e423a68"
      },
      "source": [
        "# 各変数の微分(backward)\n",
        "dprice = 1\n",
        "\n",
        "# 順伝播の時とは逆向きに計算を行う\n",
        "dapple_price, dtax = mul_tax_layer.backward(dprice)\n",
        "dapple, dapple_num = mul_apple_layer.backward(dapple_price)\n",
        "\n",
        "print(dapple, dapple_num, dtax)"
      ],
      "execution_count": 3,
      "outputs": [
        {
          "output_type": "stream",
          "text": [
            "2.2 110.00000000000001 200\n"
          ],
          "name": "stdout"
        }
      ]
    },
    {
      "cell_type": "code",
      "metadata": {
        "id": "eXxjif_478Jy",
        "colab_type": "code",
        "colab": {}
      },
      "source": [
        "# 加算レイヤ\n",
        "class AddLayer:\n",
        "  def __init__(self):\n",
        "    pass\n",
        "  \n",
        "  def forward(self, x, y):\n",
        "    out = x + y\n",
        "    return out\n",
        "  \n",
        "  def backward(self, dout):\n",
        "    dx = dout * 1\n",
        "    dy = dout * 1\n",
        "    return dx, dy"
      ],
      "execution_count": 0,
      "outputs": []
    },
    {
      "cell_type": "code",
      "metadata": {
        "id": "eCsctTvW8hwT",
        "colab_type": "code",
        "colab": {
          "base_uri": "https://localhost:8080/",
          "height": 51
        },
        "outputId": "875275a6-ff8c-4294-fc4a-6047c078faf7"
      },
      "source": [
        "# 消費税10%で100円のりんご2個と150円のみかん3個を買う場合の順伝播での計算\n",
        "apple = 100\n",
        "apple_num = 2\n",
        "orange = 150\n",
        "orange_num = 3\n",
        "tax = 1.1\n",
        "\n",
        "# layer\n",
        "mul_apple_layer = MulLayer()\n",
        "mul_orange_layer = MulLayer()\n",
        "add_apple_orange_layer = AddLayer()\n",
        "mul_tax_layer = MulLayer()\n",
        "\n",
        "# forward\n",
        "apple_price = mul_apple_layer.forward(apple, apple_num) # (1)\n",
        "orange_price = mul_orange_layer.forward(orange, orange_num) # (2)\n",
        "all_price = add_apple_orange_layer.forward(apple_price, orange_price) # (3)\n",
        "price = mul_tax_layer.forward(all_price, tax) # (4)\n",
        "\n",
        "# backward\n",
        "dprice = 1\n",
        "dall_price, dtax = mul_tax_layer.backward(dprice) # (4)\n",
        "dapple_price, dorange_price = add_apple_orange_layer.backward(dall_price) # (3)\n",
        "dorange, dorange_num = mul_orange_layer.backward(dorange_price) # (2)\n",
        "dapple, dapple_num = mul_apple_layer.backward(dapple_price) # (1)\n",
        "\n",
        "print(price)\n",
        "print(dapple_num, dapple, dorange, dorange_num, dtax)"
      ],
      "execution_count": 7,
      "outputs": [
        {
          "output_type": "stream",
          "text": [
            "715.0000000000001\n",
            "110.00000000000001 2.2 3.3000000000000003 165.0 650\n"
          ],
          "name": "stdout"
        }
      ]
    },
    {
      "cell_type": "code",
      "metadata": {
        "id": "L2t_xjWB-SIh",
        "colab_type": "code",
        "colab": {}
      },
      "source": [
        ""
      ],
      "execution_count": 0,
      "outputs": []
    }
  ]
}