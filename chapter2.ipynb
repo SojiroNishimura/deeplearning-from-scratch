{
  "nbformat": 4,
  "nbformat_minor": 0,
  "metadata": {
    "colab": {
      "name": "chapter2.ipynb",
      "version": "0.3.2",
      "provenance": [],
      "include_colab_link": true
    },
    "kernelspec": {
      "name": "python3",
      "display_name": "Python 3"
    }
  },
  "cells": [
    {
      "cell_type": "markdown",
      "metadata": {
        "id": "view-in-github",
        "colab_type": "text"
      },
      "source": [
        "<a href=\"https://colab.research.google.com/github/SojiroNishimura/deeplearning-from-scratch/blob/master/chapter2.ipynb\" target=\"_parent\"><img src=\"https://colab.research.google.com/assets/colab-badge.svg\" alt=\"Open In Colab\"/></a>"
      ]
    },
    {
      "cell_type": "markdown",
      "metadata": {
        "id": "SeDJ3VHLKEmi",
        "colab_type": "text"
      },
      "source": [
        "# パーセプトロン\n",
        "* パーセプトロンは複数の信号を入力として受け取り、ひとつの信号を出力する\n",
        "* パーセプトロンの出力は「信号を流す/流さない」の2通りであり、通常「1 or 0」である\n",
        "* パーセプトロンで入力を受け取る部分は **「ニューロン」** または **「ノード」** と呼ばれ、各信号ごとに **重み** を掛けて足し合わせたものを入力とする\n",
        "* 全入力信号の総和が一定の値(**閾値**)を超えている場合、出力が1になる。これは **ニューロンの発火** と表現される。ここでは閾値を$\\theta$で表す\n",
        "  \n",
        "入力信号が2つのパーセプトロンを数式で表すと以下のようになる。  \n",
        "\n",
        "\\\n",
        "\n",
        "$\n",
        "\\begin{eqnarray}\n",
        "y = \\left\\{\n",
        "  \\begin{array}{ll}\n",
        "    0 \\ (w_1x_1 + w_2x_2 \\le \\theta)\\\\\n",
        "    1 \\ (w_1x_1 + w_2x_2 \\gt \\theta)\n",
        "  \\end{array} \\right.\n",
        "\\end{eqnarray}\n",
        "$\n",
        "\n",
        "\\\n",
        "  \n",
        "パーセプトロンは複数の入力信号ごとに独自の重みを持つ。それぞれの重みは **各信号の重要度をコントロールする要素** として働く。重みが大きくなるほど、その重みに対応する入力信号の出力への寄与度が大きくなる。"
      ]
    },
    {
      "cell_type": "markdown",
      "metadata": {
        "id": "cjpZArvSPUye",
        "colab_type": "text"
      },
      "source": [
        "## 単純な論理回路\n",
        "単純な論理回路を使ってパーセプトロンを実装する。\n",
        "\n",
        "### ANDゲート\n",
        "|$x_1$|$x_2$|y|\n",
        "|:---:|:---:|:---:|\n",
        "|0|0|0|\n",
        "|1|0|0|\n",
        "|0|1|0|\n",
        "|1|1|1|\n",
        "\n",
        "### NANDゲート\n",
        "|$x_1$|$x_2$|y|\n",
        "|:---:|:---:|:---:|\n",
        "|0|0|1|\n",
        "|1|0|1|\n",
        "|0|1|1|\n",
        "|1|1|0|\n",
        "\n",
        "### ORゲート\n",
        "|$x_1$|$x_2$|y|\n",
        "|:---:|:---:|:---:|\n",
        "|0|0|0|\n",
        "|1|0|1|\n",
        "|0|1|1|\n",
        "|1|1|1|\n",
        "\n",
        "以下でパーセプトロンを用いて各論理ゲートを実装する。"
      ]
    },
    {
      "cell_type": "markdown",
      "metadata": {
        "id": "GZO2e9gcTJ0_",
        "colab_type": "text"
      },
      "source": [
        "## パーセプトロンの実装\n",
        "### 簡単な実装"
      ]
    },
    {
      "cell_type": "code",
      "metadata": {
        "id": "T2mWAKPRKDNn",
        "colab_type": "code",
        "colab": {}
      },
      "source": [
        "def AND(x1, x2):\n",
        "  W1, W2, theta = 0.5, 0.5, 0.7\n",
        "  tmp = x1*W1 + x2*W2\n",
        "  \n",
        "  if tmp <= theta:\n",
        "    return 0\n",
        "  elif tmp > theta:\n",
        "    return 1"
      ],
      "execution_count": 0,
      "outputs": []
    },
    {
      "cell_type": "code",
      "metadata": {
        "id": "xBlmDsG8Theh",
        "colab_type": "code",
        "colab": {
          "base_uri": "https://localhost:8080/",
          "height": 85
        },
        "outputId": "bf3a1832-4d0c-4e29-8272-146429d9d146"
      },
      "source": [
        "print(AND(0, 0))\n",
        "print(AND(1, 0))\n",
        "print(AND(0, 1))\n",
        "print(AND(1, 1))"
      ],
      "execution_count": 2,
      "outputs": [
        {
          "output_type": "stream",
          "text": [
            "0\n",
            "0\n",
            "0\n",
            "1\n"
          ],
          "name": "stdout"
        }
      ]
    },
    {
      "cell_type": "markdown",
      "metadata": {
        "id": "FY7dLiiXT7vY",
        "colab_type": "text"
      },
      "source": [
        "### 重みとバイアスの導入\n",
        "上記の式にバイアスを導入する。バイアスはパーセプトロンの式を変形させ、以下のように表す。\n",
        "\n",
        "\\\n",
        "\n",
        "$\n",
        "\\begin{eqnarray}\n",
        "y = \\left\\{\n",
        "  \\begin{array}{ll}\n",
        "    0 \\ (b + w_1x_1 + w_2x_2 \\le 0)\\\\\n",
        "    1 \\ (b + w_1x_1 + w_2x_2 \\gt 0)\n",
        "  \\end{array} \\right.\n",
        "\\end{eqnarray}\n",
        "$\n",
        "\n",
        "\\\n",
        "\n",
        "上記はパーセプトロンの$\\theta$を移行しただけである。ここで$b$をバイアスと呼び、$w_1, w_2$を重みと呼ぶ。重みは「各入力信号の重要度」を表す値であったが、バイアスは  **ニューロンの発火しやすさ** を表す値である。\n"
      ]
    },
    {
      "cell_type": "code",
      "metadata": {
        "id": "YvFCyrhMTtDh",
        "colab_type": "code",
        "colab": {}
      },
      "source": [
        "# 改良版AND\n",
        "import numpy as np\n",
        "\n",
        "def AND(x1, x2):\n",
        "  x = np.array([x1, x2])\n",
        "  w = np.array([0.5, 0.5])\n",
        "  b = -0.7\n",
        "  tmp = np.sum(w*x) + b\n",
        "  \n",
        "  if tmp <= 0:\n",
        "    return 0\n",
        "  else:\n",
        "    return 1"
      ],
      "execution_count": 0,
      "outputs": []
    },
    {
      "cell_type": "code",
      "metadata": {
        "id": "Ik3Pi-QQVhMx",
        "colab_type": "code",
        "colab": {}
      },
      "source": [
        "def NAND(x1, x2):\n",
        "  x = np.array([x1, x2])\n",
        "  w = np.array([-0.5, -0.5]) # 重みとバイアスだけがANDと異なる\n",
        "  b = 0.7\n",
        "  tmp = np.sum(w*x) + b\n",
        "  \n",
        "  if tmp <= 0:\n",
        "    return 0\n",
        "  else:\n",
        "    return 1\n",
        "  \n",
        "def OR(x1, x2):\n",
        "  x = np.array([x1, x2])\n",
        "  w = np.array([0.5, 0.5])\n",
        "  b = -0.2\n",
        "  tmp = np.sum(w*x) + b\n",
        "  \n",
        "  if tmp <= 0:\n",
        "    return 0\n",
        "  else:\n",
        "    return 1"
      ],
      "execution_count": 0,
      "outputs": []
    },
    {
      "cell_type": "markdown",
      "metadata": {
        "id": "Z69dl3XpWOZ4",
        "colab_type": "text"
      },
      "source": [
        "## パーセプトロンの限界\n",
        "### XORゲート\n",
        "|$x_1$|$x_2$|y|\n",
        "|:---:|:---:|:---:|\n",
        "|0|0|0|\n",
        "|1|0|1|\n",
        "|0|1|1|\n",
        "|1|1|0|\n",
        "\n",
        "\\\n",
        "\n",
        "XORの出力は線形分離不可能なため、1層の単純なパーセプトロンでは出力できない。しかし既存の複数の層を重ねることによって、線形分離不可能な問題に対応することができる。これを **多層パーセプトロン** という。"
      ]
    },
    {
      "cell_type": "markdown",
      "metadata": {
        "id": "txKfxczEXUSW",
        "colab_type": "text"
      },
      "source": [
        "## 多層パーセプトロン\n",
        "### 既存ゲートの組み合わせ\n",
        "XORゲートは以下の真理値表の組み合わせで実現できる。ここで$s_1$はNAND、$s_2$はOR、$y$はANDゲートを意味する。\n",
        "\n",
        "|$x_1$|$x_2$|$s_1$|$s_2$|y|\n",
        "|:---:|:---:|:---:|:---:|:---:|\n",
        "|0|0|1|0|0|\n",
        "|1|0|1|1|1|\n",
        "|0|1|1|1|1|\n",
        "|1|1|0|1|0|\n",
        "\n",
        "\\\n",
        "\n",
        "これまでに定義したAND、NAND、ORゲートを組み合わせて上記のXORゲートを実装することができる。"
      ]
    },
    {
      "cell_type": "code",
      "metadata": {
        "id": "w46auNGgWKLf",
        "colab_type": "code",
        "colab": {}
      },
      "source": [
        "def XOR(x1, x2):\n",
        "  s1 = NAND(x1, x2)\n",
        "  s2 = OR(x1, x2)\n",
        "  y = AND(s1, s2)\n",
        "  return y"
      ],
      "execution_count": 0,
      "outputs": []
    },
    {
      "cell_type": "code",
      "metadata": {
        "id": "wIkxiyS5ZCJ1",
        "colab_type": "code",
        "colab": {
          "base_uri": "https://localhost:8080/",
          "height": 85
        },
        "outputId": "457a282e-c66e-409a-85aa-1f7ebd3e4715"
      },
      "source": [
        "print(XOR(0, 0))\n",
        "print(XOR(1, 0))\n",
        "print(XOR(0, 1))\n",
        "print(XOR(1, 1))"
      ],
      "execution_count": 6,
      "outputs": [
        {
          "output_type": "stream",
          "text": [
            "0\n",
            "1\n",
            "1\n",
            "0\n"
          ],
          "name": "stdout"
        }
      ]
    },
    {
      "cell_type": "code",
      "metadata": {
        "id": "bPd6S4nOZMv6",
        "colab_type": "code",
        "colab": {}
      },
      "source": [
        ""
      ],
      "execution_count": 0,
      "outputs": []
    }
  ]
}