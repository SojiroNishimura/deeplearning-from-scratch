{
  "nbformat": 4,
  "nbformat_minor": 0,
  "metadata": {
    "colab": {
      "name": "chapter4.ipynb",
      "version": "0.3.2",
      "provenance": [],
      "collapsed_sections": [
        "WM225C0CbtGe"
      ],
      "include_colab_link": true
    },
    "kernelspec": {
      "name": "python3",
      "display_name": "Python 3"
    },
    "accelerator": "GPU"
  },
  "cells": [
    {
      "cell_type": "markdown",
      "metadata": {
        "id": "view-in-github",
        "colab_type": "text"
      },
      "source": [
        "<a href=\"https://colab.research.google.com/github/SojiroNishimura/deeplearning-from-scratch/blob/master/chapter4.ipynb\" target=\"_parent\"><img src=\"https://colab.research.google.com/assets/colab-badge.svg\" alt=\"Open In Colab\"/></a>"
      ]
    },
    {
      "cell_type": "markdown",
      "metadata": {
        "id": "89gk1dhtw7vv",
        "colab_type": "text"
      },
      "source": [
        "# ニューラルネットワークの学習\n",
        "ニューラルネットワークの学習とは、訓練データから最適な重みパラメータの値を自動的に獲得することを指す。最適な重みパラメータとは、未知の入力に対して可能な限り高い確率で正解を出力するような値のことである。訓練データに対してのみではなく、未知の入力に対しても高い正解率となる性質を **汎化能力** という。機械学習の目的はこの汎化能力を獲得することである。\n",
        "\n",
        "なお訓練データにのみ高い正解率となり未知の入力に対して正解率が低い状態を **過学習** という。これは訓練データに対して過度に最適化された結果、高い汎化能力を得られていない状態である。"
      ]
    },
    {
      "cell_type": "markdown",
      "metadata": {
        "id": "57T76NE58d8z",
        "colab_type": "text"
      },
      "source": [
        "## 損失関数\n",
        "ニューラルネットワークの性能を計る指標として **損失関数(loss function)** を使用する。これは正解率の低さを計る指標であり、損失関数の出力を最小化することによって正解率が最大となる重みを計算することが機械学習における「学習」の意味である。\n",
        "\n",
        "ここでの損失とは、入力データに対してニューラルネットワークの出力が不正解だった場合を表し、出力と教師データとの「誤差」をまとめたものである。損失関数を最小化する=出力と教師データとの誤差を最小にするということである。"
      ]
    },
    {
      "cell_type": "markdown",
      "metadata": {
        "id": "z4Dd8sLdAfg7",
        "colab_type": "text"
      },
      "source": [
        "### 2乗和誤差\n",
        "$E=\\frac{1}{2}\\displaystyle \\sum_{k}(y_{k}-t_{k})^2$\n",
        "\n",
        "* NNの各出力と正解ラベルの差の2乗を合計して1/2する"
      ]
    },
    {
      "cell_type": "code",
      "metadata": {
        "id": "NIjizQXw95Rl",
        "colab_type": "code",
        "colab": {}
      },
      "source": [
        "import numpy as np\n",
        "import matplotlib.pylab as plt\n",
        "from tensorflow import keras"
      ],
      "execution_count": 0,
      "outputs": []
    },
    {
      "cell_type": "code",
      "metadata": {
        "id": "K3jGncft-D0u",
        "colab_type": "code",
        "colab": {}
      },
      "source": [
        "def mean_squared_error(y, t):\n",
        "  return 0.5 * np.sum((y-t)**2)"
      ],
      "execution_count": 0,
      "outputs": []
    },
    {
      "cell_type": "code",
      "metadata": {
        "id": "hRsK6yGv-R3h",
        "colab_type": "code",
        "outputId": "609f7657-b9fb-4d62-e652-3331f27e7c68",
        "colab": {
          "base_uri": "https://localhost:8080/",
          "height": 34
        }
      },
      "source": [
        "# 正解ラベルに対応する出力が最も高い場合（正解=2）\n",
        "y = [0.1, 0.05, 0.6, 0.0, 0.05, 0.1, 0.0, 0.1, 0.0, 0.0]\n",
        "t = [0, 0, 1, 0, 0, 0, 0, 0, 0, 0]\n",
        "mean_squared_error(np.array(y), np.array(t))"
      ],
      "execution_count": 0,
      "outputs": [
        {
          "output_type": "execute_result",
          "data": {
            "text/plain": [
              "0.09750000000000003"
            ]
          },
          "metadata": {
            "tags": []
          },
          "execution_count": 16
        }
      ]
    },
    {
      "cell_type": "code",
      "metadata": {
        "id": "YWxj277Y_Fcd",
        "colab_type": "code",
        "outputId": "315a8c39-6edf-499b-f561-2c2095a7670a",
        "colab": {
          "base_uri": "https://localhost:8080/",
          "height": 34
        }
      },
      "source": [
        "# 正解ラベルに対応する出力が低い場合（正解=2）\n",
        "y = [0.1, 0.05, 0.1, 0.0, 0.05, 0.1, 0.0, 0.6, 0.0, 0.0]\n",
        "mean_squared_error(np.array(y), np.array(t))"
      ],
      "execution_count": 0,
      "outputs": [
        {
          "output_type": "execute_result",
          "data": {
            "text/plain": [
              "0.5975"
            ]
          },
          "metadata": {
            "tags": []
          },
          "execution_count": 17
        }
      ]
    },
    {
      "cell_type": "markdown",
      "metadata": {
        "id": "4tuE4BTFBiTI",
        "colab_type": "text"
      },
      "source": [
        "### 交差エントロピー誤差\n",
        "$E=-\\displaystyle \\sum_{k}t_{k}\\log{y_{k}}$\n",
        "\n",
        "* tはOne-hot表現\n",
        "* tのうち正解ラベル以外の値は0なので、実質的にNNの正解ラベルに対応するインデックスにおける出力の対数をとることに等しい\n",
        "* `np.log(0)`が発生した場合、値が`-inf`になるのを避けるため、微小な値deltaを追加する"
      ]
    },
    {
      "cell_type": "code",
      "metadata": {
        "id": "X9Sbxo0B_k3I",
        "colab_type": "code",
        "colab": {}
      },
      "source": [
        "def cross_entropy_error(y, t):\n",
        "  delta = 1e-7\n",
        "  return -np.sum(t * np.log(y + delta))"
      ],
      "execution_count": 0,
      "outputs": []
    },
    {
      "cell_type": "code",
      "metadata": {
        "id": "z1dyBRUAARf3",
        "colab_type": "code",
        "outputId": "fcc27b84-26c9-4824-fe7b-45029febf02a",
        "colab": {
          "base_uri": "https://localhost:8080/",
          "height": 34
        }
      },
      "source": [
        "# 正解ラベルに対応する出力が最も高い場合（正解=2）\n",
        "y = [0.1, 0.5, 0.6, 0.0, 0.05, 0.1, 0.0, 0.1, 0.0, 0.0]\n",
        "cross_entropy_error(np.array(y), np.array(t))"
      ],
      "execution_count": 0,
      "outputs": [
        {
          "output_type": "execute_result",
          "data": {
            "text/plain": [
              "0.510825457099338"
            ]
          },
          "metadata": {
            "tags": []
          },
          "execution_count": 19
        }
      ]
    },
    {
      "cell_type": "code",
      "metadata": {
        "id": "xp8Kx46SKtby",
        "colab_type": "code",
        "outputId": "0b333142-4edb-4c6a-a204-a0c9b2146488",
        "colab": {
          "base_uri": "https://localhost:8080/",
          "height": 34
        }
      },
      "source": [
        "# 正解ラベルに対応する出力が低い場合（正解=2）\n",
        "y = [0.1, 0.05, 0.1, 0.0, 0.05, 0.1, 0.0, 0.6, 0.0, 0.0]\n",
        "cross_entropy_error(np.array(y), np.array(t))"
      ],
      "execution_count": 0,
      "outputs": [
        {
          "output_type": "execute_result",
          "data": {
            "text/plain": [
              "2.302584092994546"
            ]
          },
          "metadata": {
            "tags": []
          },
          "execution_count": 20
        }
      ]
    },
    {
      "cell_type": "markdown",
      "metadata": {
        "id": "s89gtvH4L6QR",
        "colab_type": "text"
      },
      "source": [
        "### ミニバッチ学習\n",
        "上記2つの損失関数は個別のデータに対応する値を求めるもの。複数のデータに適用するためには複数のデータをまとめて計算できるように拡張する必要がある。\n",
        "\n",
        "$E=-\\frac{1}{n}\\displaystyle \\sum_{n}\\displaystyle \\sum_{k}t_{nk}\\log{y_{nk}}$\n",
        "\n",
        "交差エントロピー誤差をn個のデータに適用すると上記の式になる。$\\frac{1}{n}$によって1個あたりの平均損失関数を求めることができる。\n"
      ]
    },
    {
      "cell_type": "code",
      "metadata": {
        "id": "AvGKR6DuN-Eo",
        "colab_type": "code",
        "colab": {}
      },
      "source": [
        "from keras.datasets import mnist\n",
        "(x_train, y_train), (x_test, y_test) = mnist.load_data()"
      ],
      "execution_count": 0,
      "outputs": []
    },
    {
      "cell_type": "code",
      "metadata": {
        "id": "ldB1Ri9nPNn7",
        "colab_type": "code",
        "outputId": "435051f7-6a15-42cf-a468-99253ebfed08",
        "colab": {
          "base_uri": "https://localhost:8080/",
          "height": 85
        }
      },
      "source": [
        "print(x_train.shape)\n",
        "print(y_train.shape)\n",
        "print(x_test.shape)\n",
        "print(y_test.shape)"
      ],
      "execution_count": 0,
      "outputs": [
        {
          "output_type": "stream",
          "text": [
            "(60000, 28, 28)\n",
            "(60000,)\n",
            "(10000, 28, 28)\n",
            "(10000,)\n"
          ],
          "name": "stdout"
        }
      ]
    },
    {
      "cell_type": "code",
      "metadata": {
        "id": "MjKO2RFgPnQU",
        "colab_type": "code",
        "colab": {}
      },
      "source": [
        "x_train_normalized = list(map(lambda arr: arr.flatten(), x_train))\n",
        "x_test_normalized = list(map(lambda arr: arr.flatten(), x_test))"
      ],
      "execution_count": 0,
      "outputs": []
    },
    {
      "cell_type": "code",
      "metadata": {
        "id": "trcOG1uVTXXP",
        "colab_type": "code",
        "outputId": "1f0cdd32-680d-43ab-a198-4640aac5394e",
        "colab": {
          "base_uri": "https://localhost:8080/",
          "height": 34
        }
      },
      "source": [
        "np.array(x_train_normalized).shape"
      ],
      "execution_count": 0,
      "outputs": [
        {
          "output_type": "execute_result",
          "data": {
            "text/plain": [
              "(60000, 784)"
            ]
          },
          "metadata": {
            "tags": []
          },
          "execution_count": 26
        }
      ]
    },
    {
      "cell_type": "code",
      "metadata": {
        "id": "mZN5_V7ETf5Q",
        "colab_type": "code",
        "colab": {}
      },
      "source": [
        "x_train_normalized = np.array(x_train_normalized)\n",
        "x_test_normalized = np.array(x_test_normalized)"
      ],
      "execution_count": 0,
      "outputs": []
    },
    {
      "cell_type": "code",
      "metadata": {
        "id": "tASBcTXpTnkh",
        "colab_type": "code",
        "colab": {}
      },
      "source": [
        "n_labels = len(np.unique(y_train))  # 分類クラスの数 = 10\n",
        "y_train_onehot = np.eye(n_labels)[y_train]           # one hot表現に変換\n",
        "y_test_onehot = np.eye(n_labels)[y_test]"
      ],
      "execution_count": 0,
      "outputs": []
    },
    {
      "cell_type": "code",
      "metadata": {
        "id": "b9OpOGtWUL0Z",
        "colab_type": "code",
        "outputId": "381d92ca-6e1f-4557-e7d4-abfe280548a9",
        "colab": {
          "base_uri": "https://localhost:8080/",
          "height": 34
        }
      },
      "source": [
        "y_train_onehot.shape"
      ],
      "execution_count": 0,
      "outputs": [
        {
          "output_type": "execute_result",
          "data": {
            "text/plain": [
              "(60000, 10)"
            ]
          },
          "metadata": {
            "tags": []
          },
          "execution_count": 29
        }
      ]
    },
    {
      "cell_type": "code",
      "metadata": {
        "id": "JpLrv0Y9UOK6",
        "colab_type": "code",
        "colab": {}
      },
      "source": [
        "train_size = x_train_normalized.shape[0]\n",
        "batch_size = 10\n",
        "batch_mask = np.random.choice(train_size, batch_size)\n",
        "x_batch = x_train_normalized[batch_mask]\n",
        "y_batch = y_train_onehot[batch_mask]"
      ],
      "execution_count": 0,
      "outputs": []
    },
    {
      "cell_type": "code",
      "metadata": {
        "id": "0GUsUgNzUuxi",
        "colab_type": "code",
        "outputId": "851bd2da-7ffa-4b06-de70-24af4d66d321",
        "colab": {
          "base_uri": "https://localhost:8080/",
          "height": 51
        }
      },
      "source": [
        "np.random.choice(60000, 10)"
      ],
      "execution_count": 0,
      "outputs": [
        {
          "output_type": "execute_result",
          "data": {
            "text/plain": [
              "array([32956,  7892,   865, 51437,   714, 43917, 26378, 41214,  5766,\n",
              "       46053])"
            ]
          },
          "metadata": {
            "tags": []
          },
          "execution_count": 31
        }
      ]
    },
    {
      "cell_type": "code",
      "metadata": {
        "id": "n1nvYJEcU0Ky",
        "colab_type": "code",
        "colab": {}
      },
      "source": [
        "def cross_entropy_error2(y, t):\n",
        "  if y.ndim == 1:\n",
        "    t = t.reshape(1, t.size)\n",
        "    y = y.reshape(1, y.size)\n",
        "    \n",
        "  batch_size = y.shape[0]\n",
        "  return -np.sum(t * np.log(y + 1e-7)) / batch_size"
      ],
      "execution_count": 0,
      "outputs": []
    },
    {
      "cell_type": "markdown",
      "metadata": {
        "id": "eU78yR_5-r2R",
        "colab_type": "text"
      },
      "source": [
        "### なぜ損失関数を計算するのか？\n",
        "ニューラルネットワークの性能を計るために損失関数を使うのは、そのほうが最適化問題を解くのに有用だからである。もし正解率を指標にすると、パラメータを更新してもほとんど正解率は変わらず、各パラメータごとの影響度も判別できない。しかし損失関数の最小化を考えると、各パラメータごとに偏微分することによって、パラメータごとの影響度と全体の勾配を求めることができる。"
      ]
    },
    {
      "cell_type": "markdown",
      "metadata": {
        "id": "-jRdlIatWENJ",
        "colab_type": "text"
      },
      "source": [
        "## 数値微分\n",
        "ある関数が極小に変化した場合の変化量を求める。\n",
        "\n",
        "$\\frac{df(x)}{dx}=\\displaystyle \\lim_{h \\to 0}\\frac{f(x+h)-f(x)}{h}$\n",
        "\n",
        "ただしコンピュータで極小量の計算を行うと誤差が発生するので、xを中心として前後の差分を計算することで誤差を減らす工夫を行う（中心差分）。\n",
        "\n",
        "なお実際に微小な変化量を計算することを**数値微分**といい、数式の整理によって解を得ることを**解析的に解く**と言う。\n",
        "\n"
      ]
    },
    {
      "cell_type": "code",
      "metadata": {
        "id": "Se3lC_s7WVeC",
        "colab_type": "code",
        "colab": {}
      },
      "source": [
        "def numerical_diff(f, x):\n",
        "  h = 1e-4 # 0.0001\n",
        "  return (f(x+h) - f(x-h)) / (2*h)"
      ],
      "execution_count": 0,
      "outputs": []
    },
    {
      "cell_type": "markdown",
      "metadata": {
        "id": "odDkLPS9aIlU",
        "colab_type": "text"
      },
      "source": [
        "### 数値微分の例\n",
        "$y=0.01x^2+0.1x$\n"
      ]
    },
    {
      "cell_type": "code",
      "metadata": {
        "id": "rH0eYwlyZPOU",
        "colab_type": "code",
        "colab": {}
      },
      "source": [
        "def func_1(x):\n",
        "  return 0.01*x**2 + 0.1*x"
      ],
      "execution_count": 0,
      "outputs": []
    },
    {
      "cell_type": "code",
      "metadata": {
        "id": "wbLj-L92ad_V",
        "colab_type": "code",
        "colab": {}
      },
      "source": [
        "x = np.arange(0.0, 20.0, 0.1) # 0~20.0まで0.1刻みの配列\n",
        "y = func_1(x)"
      ],
      "execution_count": 0,
      "outputs": []
    },
    {
      "cell_type": "code",
      "metadata": {
        "id": "4anfuBaNa3uM",
        "colab_type": "code",
        "outputId": "4a9a005b-231f-427c-f095-abd9f84e18c2",
        "colab": {
          "base_uri": "https://localhost:8080/",
          "height": 283
        }
      },
      "source": [
        "plt.xlabel(\"x\")\n",
        "plt.ylabel(\"f(x)\")\n",
        "plt.plot(x, y)\n",
        "plt.show()"
      ],
      "execution_count": 0,
      "outputs": [
        {
          "output_type": "display_data",
          "data": {
            "image/png": "[encoded data removed]",
            "text/plain": [
              "<Figure size 432x288 with 1 Axes>"
            ]
          },
          "metadata": {
            "tags": []
          }
        }
      ]
    },
    {
      "cell_type": "code",
      "metadata": {
        "id": "crYSxhJXa9w2",
        "colab_type": "code",
        "outputId": "fc18dd30-bc6a-43cd-ba2c-0127a7311f76",
        "colab": {
          "base_uri": "https://localhost:8080/",
          "height": 51
        }
      },
      "source": [
        "# x=5, x=10で微分する\n",
        "print(numerical_diff(func_1, 5))\n",
        "print(numerical_diff(func_1, 10))"
      ],
      "execution_count": 0,
      "outputs": [
        {
          "output_type": "stream",
          "text": [
            "0.1999999999990898\n",
            "0.2999999999986347\n"
          ],
          "name": "stdout"
        }
      ]
    },
    {
      "cell_type": "markdown",
      "metadata": {
        "id": "WM225C0CbtGe",
        "colab_type": "text"
      },
      "source": [
        "### 偏微分の例\n",
        "偏微分=変数が複数ある場合の微分。\n",
        "\n",
        "$f(x_{0}, x_{1})=x^2_{0}+x^2_{1}$\n",
        "\n",
        "各変数に対する偏微分は以下のように表される。\n",
        "\n",
        "$\\frac{\\partial f}{\\partial x_{0}}$, $\\frac{\\partial f}{\\partial x_{1}}$"
      ]
    },
    {
      "cell_type": "code",
      "metadata": {
        "id": "-Ce-uWE4beJl",
        "colab_type": "code",
        "colab": {}
      },
      "source": [
        "def func_2(x):\n",
        "  return x[0]**2 + x[1]**2"
      ],
      "execution_count": 0,
      "outputs": []
    },
    {
      "cell_type": "code",
      "metadata": {
        "id": "bsQWKTMtdAnu",
        "colab_type": "code",
        "outputId": "618ad376-5422-4c10-c07b-5561d0c29c41",
        "colab": {
          "base_uri": "https://localhost:8080/",
          "height": 54
        }
      },
      "source": [
        "# x0 = 3, x1 = 4のときのx0に対する偏微分\n",
        "def func_tmp1(x0):\n",
        "  return x0*x0 + 4.0**2.0\n",
        "\n",
        "numerical_diff(func_tmp1, 3.0)"
      ],
      "execution_count": 0,
      "outputs": [
        {
          "output_type": "execute_result",
          "data": {
            "text/plain": [
              "6.00000000000378"
            ]
          },
          "metadata": {
            "tags": []
          },
          "execution_count": 39
        }
      ]
    },
    {
      "cell_type": "code",
      "metadata": {
        "id": "_TLZ3BN8iKLk",
        "colab_type": "code",
        "outputId": "a1bef5c0-666f-4f89-cd2a-e847f01448e5",
        "colab": {
          "base_uri": "https://localhost:8080/",
          "height": 54
        }
      },
      "source": [
        "# x0 = 3, x1 = 4のときのx1に対する偏微分\n",
        "def func_tmp2(x1):\n",
        "  return 3.0**2.0 + x1*x1\n",
        "\n",
        "numerical_diff(func_tmp2, 4.0)"
      ],
      "execution_count": 0,
      "outputs": [
        {
          "output_type": "execute_result",
          "data": {
            "text/plain": [
              "7.999999999999119"
            ]
          },
          "metadata": {
            "tags": []
          },
          "execution_count": 40
        }
      ]
    },
    {
      "cell_type": "markdown",
      "metadata": {
        "id": "fjfl9GrZiy54",
        "colab_type": "text"
      },
      "source": [
        "## 勾配\n",
        "複数の変数があるとき、すべての変数の偏微分をベクトルとしてまとめたものを**勾配(gradient)**と言い以下のように表記する。\n",
        "\n",
        "$(\\frac{\\partial f}{\\partial x_{0}}, \\frac{\\partial f}{\\partial x_{1}})$\n",
        "\n",
        "勾配は各場所（入力）において、**関数の値を最も減らす方向**を示す。"
      ]
    },
    {
      "cell_type": "code",
      "metadata": {
        "id": "SV15kkA_ic-B",
        "colab_type": "code",
        "colab": {}
      },
      "source": [
        "def numerical_gradient(f, x):\n",
        "  h = 1e-4 # 0.0001\n",
        "  grad = np.zeros_like(x) # xと同じ形状の配列を生成\n",
        "  \n",
        "  for idx in range(x.size):\n",
        "    tmp_val = x[idx]\n",
        "    # f(x+h)の計算\n",
        "    x[idx] = tmp_val + h\n",
        "    fxh1 = f(x)\n",
        "    \n",
        "    # f(x-h)の計算\n",
        "    x[idx] = tmp_val - h\n",
        "    fxh2 = f(x)\n",
        "    \n",
        "    grad[idx] = (fxh1 - fxh2) / (2*h)\n",
        "    x[idx] = tmp_val # 値をもとに戻す\n",
        "    \n",
        "  return grad"
      ],
      "execution_count": 0,
      "outputs": []
    },
    {
      "cell_type": "code",
      "metadata": {
        "id": "ljVhd1Z7ogxm",
        "colab_type": "code",
        "outputId": "86525b3a-a77f-4f38-f257-fccc1111089c",
        "colab": {
          "base_uri": "https://localhost:8080/",
          "height": 34
        }
      },
      "source": [
        "numerical_gradient(func_2, np.array([3.0, 4.0]))"
      ],
      "execution_count": 0,
      "outputs": [
        {
          "output_type": "execute_result",
          "data": {
            "text/plain": [
              "array([6., 8.])"
            ]
          },
          "metadata": {
            "tags": []
          },
          "execution_count": 42
        }
      ]
    },
    {
      "cell_type": "code",
      "metadata": {
        "id": "sy9_ENf3o3PS",
        "colab_type": "code",
        "outputId": "bb0d2a39-bf37-4829-b697-2b5b7888226e",
        "colab": {
          "base_uri": "https://localhost:8080/",
          "height": 34
        }
      },
      "source": [
        "numerical_gradient(func_2, np.array([0.0, 2.0]))"
      ],
      "execution_count": 0,
      "outputs": [
        {
          "output_type": "execute_result",
          "data": {
            "text/plain": [
              "array([0., 4.])"
            ]
          },
          "metadata": {
            "tags": []
          },
          "execution_count": 43
        }
      ]
    },
    {
      "cell_type": "code",
      "metadata": {
        "id": "ZB22CDr7o8KC",
        "colab_type": "code",
        "outputId": "161b551b-92e9-4b41-d1a4-23fac9bc5857",
        "colab": {
          "base_uri": "https://localhost:8080/",
          "height": 34
        }
      },
      "source": [
        "numerical_gradient(func_2, np.array([3.0, 0.0]))"
      ],
      "execution_count": 0,
      "outputs": [
        {
          "output_type": "execute_result",
          "data": {
            "text/plain": [
              "array([6., 0.])"
            ]
          },
          "metadata": {
            "tags": []
          },
          "execution_count": 44
        }
      ]
    },
    {
      "cell_type": "markdown",
      "metadata": {
        "id": "Wile2f7HsHQp",
        "colab_type": "text"
      },
      "source": [
        "### 勾配法\n",
        "関数を最小化する（最小とは限らないが減少させる）ためには、現在の場所から勾配方向に一定距離進み、移動した地点から再度勾配を計算することを一定回数繰り返すことで最小値（あるいは極小値）を求める。これが**勾配法**である。\n",
        "\n",
        "2変数の勾配法は以下のように表される。\n",
        "\n",
        "$x_{0}=x_{0}-\\eta\\frac{\\partial f}{\\partial x_{0}}$\n",
        "\n",
        "$x_{1}=x{1}-\\eta\\frac{\\partial f}{\\partial x_{1}}$\n",
        "\n",
        "\n",
        "$\\eta$は**学習率(learning rate)**と呼ばれ、1回の学習でどれだけパラメータを更新すべきかを決める（=勾配方向への移動量を決める）。\n",
        "\n",
        "学習率は大きすぎても小さすぎても「良い場所」に収束しないので、0.01や0.001などの値を試行錯誤する必要がある。ニューラルネットワークで学習させる重み（パラメータ）とは異なり、学習のために任意に決める必要がある値を**ハイパーパラメータ**と言う。"
      ]
    },
    {
      "cell_type": "code",
      "metadata": {
        "id": "ZcNprjKDpBH_",
        "colab_type": "code",
        "colab": {}
      },
      "source": [
        "def gradient_descent(f, init_x, lr=0.01, step_num=100):\n",
        "  x = init_x\n",
        "  \n",
        "  for i in range(step_num):\n",
        "    grad = numerical_gradient(f, x)\n",
        "    x -= lr * grad\n",
        "  \n",
        "  return x"
      ],
      "execution_count": 0,
      "outputs": []
    },
    {
      "cell_type": "code",
      "metadata": {
        "id": "I7N78e94ymUY",
        "colab_type": "code",
        "outputId": "dfe15bdc-ed7e-4317-f763-f5574230e9f7",
        "colab": {
          "base_uri": "https://localhost:8080/",
          "height": 34
        }
      },
      "source": [
        "init_x = np.array([-3.0, 4.0])\n",
        "gradient_descent(func_2, init_x=init_x, lr=0.1, step_num=100)"
      ],
      "execution_count": 0,
      "outputs": [
        {
          "output_type": "execute_result",
          "data": {
            "text/plain": [
              "array([-6.11110793e-10,  8.14814391e-10])"
            ]
          },
          "metadata": {
            "tags": []
          },
          "execution_count": 46
        }
      ]
    },
    {
      "cell_type": "code",
      "metadata": {
        "id": "DiwqFYbqzPdf",
        "colab_type": "code",
        "outputId": "c526c8a1-fd6d-424d-caca-5ac03bb0ecc4",
        "colab": {
          "base_uri": "https://localhost:8080/",
          "height": 34
        }
      },
      "source": [
        "# 学習率が大きすぎる場合\n",
        "gradient_descent(func_2, init_x=init_x, lr=10.0, step_num=100)"
      ],
      "execution_count": 0,
      "outputs": [
        {
          "output_type": "execute_result",
          "data": {
            "text/plain": [
              "array([ 2.34235971e+12, -3.96091057e+12])"
            ]
          },
          "metadata": {
            "tags": []
          },
          "execution_count": 47
        }
      ]
    },
    {
      "cell_type": "code",
      "metadata": {
        "id": "wM1U0HA5ziPG",
        "colab_type": "code",
        "outputId": "134bd764-88ee-4731-95bf-41ea4151b2fc",
        "colab": {
          "base_uri": "https://localhost:8080/",
          "height": 34
        }
      },
      "source": [
        "# 学習率が小さすぎる場合\n",
        "gradient_descent(func_2, init_x=init_x, lr=1e-20, step_num=100)"
      ],
      "execution_count": 0,
      "outputs": [
        {
          "output_type": "execute_result",
          "data": {
            "text/plain": [
              "array([ 2.34235971e+12, -3.96091057e+12])"
            ]
          },
          "metadata": {
            "tags": []
          },
          "execution_count": 48
        }
      ]
    },
    {
      "cell_type": "markdown",
      "metadata": {
        "id": "rZ09LOlM2nds",
        "colab_type": "text"
      },
      "source": [
        "### ニューラルネットワークに対する勾配\n",
        "$2 \\times 3$の重み$W$だけを持つニューラルネットワークがあり、損失関数を$L$で表した場合、勾配は$\\frac{\\partial L}{\\partial W}$となり、以下の数式で表すことができる。\n",
        "\n",
        "\\\\\n",
        "\n",
        "$W=\n",
        "\\begin{pmatrix}\n",
        "w_{11} & w_{12} & w_{13} \\\\\n",
        "w_{21} & w_{22} & w_{23} \\\\\n",
        "\\end{pmatrix}\n",
        "$\n",
        "\n",
        "\\\\\n",
        "\n",
        "$\\frac{\\partial L}{\\partial W}=\n",
        "\\begin{pmatrix}\n",
        "\\frac{\\partial L}{\\partial w_{11}} & \\frac{\\partial L}{\\partial w_{12}} & \\frac{\\partial L}{\\partial w_{13}} \\\\\n",
        "\\frac{\\partial L}{\\partial w_{21}} & \\frac{\\partial L}{\\partial w_{22}} & \\frac{\\partial L}{\\partial w_{23}}\n",
        "\\end{pmatrix}\n",
        "$"
      ]
    },
    {
      "cell_type": "code",
      "metadata": {
        "id": "KmKbM7OVzwPn",
        "colab_type": "code",
        "colab": {}
      },
      "source": [
        "def softmax(a):\n",
        "  c = np.max(a)\n",
        "  exp_a = np.exp(a - c) # オーバーフロー対策\n",
        "  sum_exp_a = np.sum(exp_a)\n",
        "  y = exp_a / sum_exp_a\n",
        "  \n",
        "  return y"
      ],
      "execution_count": 0,
      "outputs": []
    },
    {
      "cell_type": "code",
      "metadata": {
        "id": "GCtKUj7I7osw",
        "colab_type": "code",
        "colab": {}
      },
      "source": [
        "class simpleNet:\n",
        "  def __init__(self):\n",
        "    self.W = np.random.randn(2, 3) # ガウス分布で初期化\n",
        "    \n",
        "  def predict(self, x):\n",
        "    return np.dot(x, self.W)\n",
        "  \n",
        "  def loss(self, x, t):\n",
        "    z = self.predict(x)\n",
        "    y = softmax(z)\n",
        "    loss = cross_entropy_error2(y, t)\n",
        "    \n",
        "    return loss"
      ],
      "execution_count": 0,
      "outputs": []
    },
    {
      "cell_type": "code",
      "metadata": {
        "id": "gWknfVX-8HKV",
        "colab_type": "code",
        "outputId": "a156a633-f53b-4bd5-e865-a85619295273",
        "colab": {
          "base_uri": "https://localhost:8080/",
          "height": 51
        }
      },
      "source": [
        "net = simpleNet()\n",
        "print(net.W)"
      ],
      "execution_count": 0,
      "outputs": [
        {
          "output_type": "stream",
          "text": [
            "[[-0.13922211  0.6842476  -0.62269829]\n",
            " [-0.52392177  0.46659375  0.06449104]]\n"
          ],
          "name": "stdout"
        }
      ]
    },
    {
      "cell_type": "code",
      "metadata": {
        "id": "adNQd2Lx8d-A",
        "colab_type": "code",
        "outputId": "29198d84-f6eb-4df8-f826-ee270d6a0220",
        "colab": {
          "base_uri": "https://localhost:8080/",
          "height": 34
        }
      },
      "source": [
        "x = np.array([0.6, 0.9])\n",
        "p = net.predict(x)\n",
        "print(p)"
      ],
      "execution_count": 0,
      "outputs": [
        {
          "output_type": "stream",
          "text": [
            "[-0.55506286  0.83048293 -0.31557704]\n"
          ],
          "name": "stdout"
        }
      ]
    },
    {
      "cell_type": "code",
      "metadata": {
        "id": "lPRFe6YR8o-Q",
        "colab_type": "code",
        "outputId": "a4c8926f-e19b-421b-eb0d-f27b44c41f30",
        "colab": {
          "base_uri": "https://localhost:8080/",
          "height": 34
        }
      },
      "source": [
        "np.argmax(p)"
      ],
      "execution_count": 0,
      "outputs": [
        {
          "output_type": "execute_result",
          "data": {
            "text/plain": [
              "1"
            ]
          },
          "metadata": {
            "tags": []
          },
          "execution_count": 53
        }
      ]
    },
    {
      "cell_type": "code",
      "metadata": {
        "id": "tWYrmlgv8tDd",
        "colab_type": "code",
        "outputId": "383a9f16-b41b-4e19-991f-c1c7eb2b37e1",
        "colab": {
          "base_uri": "https://localhost:8080/",
          "height": 34
        }
      },
      "source": [
        "t = np.array([0, 0, 1])\n",
        "net.loss(x, t)"
      ],
      "execution_count": 0,
      "outputs": [
        {
          "output_type": "execute_result",
          "data": {
            "text/plain": [
              "1.5959075919805443"
            ]
          },
          "metadata": {
            "tags": []
          },
          "execution_count": 54
        }
      ]
    },
    {
      "cell_type": "code",
      "metadata": {
        "id": "uVSS0Ev5803p",
        "colab_type": "code",
        "colab": {}
      },
      "source": [
        "def f(W):\n",
        "  return net.loss(x, t)"
      ],
      "execution_count": 0,
      "outputs": []
    },
    {
      "cell_type": "code",
      "metadata": {
        "id": "XAPqyc-X_Xiu",
        "colab_type": "code",
        "colab": {}
      },
      "source": [
        "def numerical_gradient(f, x):\n",
        "    h = 1e-4 # 0.0001\n",
        "    grad = np.zeros_like(x)\n",
        "    \n",
        "    it = np.nditer(x, flags=['multi_index'], op_flags=['readwrite'])\n",
        "    while not it.finished:\n",
        "        idx = it.multi_index\n",
        "        tmp_val = x[idx]\n",
        "        x[idx] = float(tmp_val) + h\n",
        "        fxh1 = f(x) # f(x+h)\n",
        "        \n",
        "        x[idx] = tmp_val - h \n",
        "        fxh2 = f(x) # f(x-h)\n",
        "        grad[idx] = (fxh1 - fxh2) / (2*h)\n",
        "        \n",
        "        x[idx] = tmp_val # 値を元に戻す\n",
        "        it.iternext()   \n",
        "        \n",
        "    return grad"
      ],
      "execution_count": 0,
      "outputs": []
    },
    {
      "cell_type": "code",
      "metadata": {
        "id": "OpQomhak_Yr6",
        "colab_type": "code",
        "outputId": "35c729f6-8614-4467-9b85-961309056dbe",
        "colab": {
          "base_uri": "https://localhost:8080/",
          "height": 51
        }
      },
      "source": [
        "dw = numerical_gradient(f, net.W)\n",
        "print(dw)"
      ],
      "execution_count": 0,
      "outputs": [
        {
          "output_type": "stream",
          "text": [
            "[[ 0.09573034  0.38263481 -0.47836515]\n",
            " [ 0.14359551  0.57395222 -0.71754773]]\n"
          ],
          "name": "stdout"
        }
      ]
    },
    {
      "cell_type": "code",
      "metadata": {
        "id": "r69gfvAu_uar",
        "colab_type": "code",
        "outputId": "1d8bf3dc-d7ba-4499-f79e-5dc374a46900",
        "colab": {
          "base_uri": "https://localhost:8080/",
          "height": 51
        }
      },
      "source": [
        "# lambda版\n",
        "f = lambda w: net.loss(x, t)\n",
        "dw = numerical_gradient(f, net.W)\n",
        "print(dw)"
      ],
      "execution_count": 0,
      "outputs": [
        {
          "output_type": "stream",
          "text": [
            "[[ 0.09573034  0.38263481 -0.47836515]\n",
            " [ 0.14359551  0.57395222 -0.71754773]]\n"
          ],
          "name": "stdout"
        }
      ]
    },
    {
      "cell_type": "markdown",
      "metadata": {
        "id": "dtFwKbWwIf5K",
        "colab_type": "text"
      },
      "source": [
        "## 学習アルゴリズムの実装\n",
        "ニューラルネットワークとは、適応可能な（=可変の）重みとバイアスを持つネットワーク構造であり、その重みとバイアスを訓練データに適応するように調整することを「学習」と呼ぶ。\n",
        "\n",
        "ニューラルネットワークの学習アルゴリズムは以下の手順で実装できる。\n",
        "\n",
        "* ミニバッチ\n",
        "  * 訓練データからランダムに一部のデータ（=ミニバッチ）を選び出す\n",
        "  * 選びだしたミニバッチの損失関数の値を減少させるようにする\n",
        "* 勾配の計算\n",
        "  * ミニバッチの損失関数を減らすために各重みパラメータの勾配を求める（=パラメータごとに偏微分する）\n",
        "  * 勾配は損失関数を最も減少させる方向を示す\n",
        "* パラメータの更新\n",
        "  * 重みパラメータを勾配方向に微小量（学習率）だけ更新する。\n",
        "* 繰り返す\n",
        "  * 上記手順を値が収束するか一定の条件（回数or損失関数の減少量が一定以下になる）まで繰り返す\n",
        "  \n",
        "上記手順はミニバッチを無作為（=ランダム）に選んで学習を行うことから**確率的勾配降下法(Stochastic Gradient Descent=SGD)**と呼ばれる。\n",
        "\n",
        "以下では隠れ層が1層の2層ニューラルネットワークを実装する。"
      ]
    },
    {
      "cell_type": "code",
      "metadata": {
        "id": "g0vrvMacTdDU",
        "colab_type": "code",
        "colab": {}
      },
      "source": [
        "def sigmoid(x):\n",
        "    return 1 / (1 + np.exp(-x))"
      ],
      "execution_count": 0,
      "outputs": []
    },
    {
      "cell_type": "code",
      "metadata": {
        "id": "JV16xzO7CCE9",
        "colab_type": "code",
        "colab": {}
      },
      "source": [
        "class TwoLayerNet:\n",
        "  \n",
        "  def __init__(self, input_size, hidden_size, output_size, weight_init_std=0.01):\n",
        "    self.params = {}\n",
        "    self.params['W1'] = weight_init_std * np.random.randn(input_size, hidden_size)\n",
        "    self.params['b1'] = np.zeros(hidden_size)\n",
        "    self.params['W2'] = weight_init_std * np.random.randn(hidden_size, output_size)\n",
        "    self.params['b2'] = np.zeros(output_size)\n",
        "    \n",
        "  def predict(self, x):\n",
        "    W1, W2 = self.params['W1'], self.params['W2']\n",
        "    b1, b2 = self.params['b1'], self.params['b2']\n",
        "    \n",
        "    a1 = np.dot(x, W1) + b1\n",
        "    z1 = sigmoid(a1)\n",
        "    a2 = np.dot(z1, W2) + b2\n",
        "    y = softmax(a2)\n",
        "    \n",
        "    return y\n",
        "  \n",
        "  # x: 入力データ, t: 教師データ\n",
        "  def loss(self, x, t):\n",
        "    y = self.predict(x)\n",
        "    \n",
        "    return cross_entropy_error2(y, t)\n",
        "  \n",
        "  def accuracy(self, x, t):\n",
        "    y = self.predict(x)\n",
        "    y = np.argmax(y, axis=1)\n",
        "    t = np.argmax(t, axis=1)\n",
        "    \n",
        "    accuracy = np.sum(y == t) / float(x.shape[0])\n",
        "    return accuracy\n",
        "  \n",
        "  # x: 入力データ, t: 教師データ\n",
        "  def numerical_gradient(self, x, t):\n",
        "    loss_W = lambda W: self.loss(x, t)\n",
        "    \n",
        "    grads = {}\n",
        "    grads['W1'] = numerical_gradient(loss_W, self.params['W1'])\n",
        "    grads['b1'] = numerical_gradient(loss_W, self.params['b1'])\n",
        "    grads['W2'] = numerical_gradient(loss_W, self.params['W2'])\n",
        "    grads['b2'] = numerical_gradient(loss_W, self.params['b2'])\n",
        "    \n",
        "    return grads"
      ],
      "execution_count": 0,
      "outputs": []
    },
    {
      "cell_type": "code",
      "metadata": {
        "id": "xNCkXEnbP2Yx",
        "colab_type": "code",
        "outputId": "bdcfd452-a132-4280-f5ef-03a12ab3a766",
        "colab": {
          "base_uri": "https://localhost:8080/",
          "height": 85
        }
      },
      "source": [
        "net = TwoLayerNet(input_size=784, hidden_size=100, output_size=10)\n",
        "print(net.params['W1'].shape)\n",
        "print(net.params['b1'].shape)\n",
        "print(net.params['W2'].shape)\n",
        "print(net.params['b2'].shape)"
      ],
      "execution_count": 0,
      "outputs": [
        {
          "output_type": "stream",
          "text": [
            "(784, 100)\n",
            "(100,)\n",
            "(100, 10)\n",
            "(10,)\n"
          ],
          "name": "stdout"
        }
      ]
    },
    {
      "cell_type": "code",
      "metadata": {
        "id": "eez-6gLWTSaK",
        "colab_type": "code",
        "colab": {}
      },
      "source": [
        "x = np.random.rand(100, 784)\n",
        "y = net.predict(x)\n",
        "# print(y)"
      ],
      "execution_count": 0,
      "outputs": []
    },
    {
      "cell_type": "code",
      "metadata": {
        "id": "ffykD4LCTyvH",
        "colab_type": "code",
        "outputId": "8f68fa8f-3ab5-40fe-8d1a-3ca991c7ae33",
        "colab": {
          "base_uri": "https://localhost:8080/",
          "height": 85
        }
      },
      "source": [
        "# 完了まで数分かかるので注意されたし\n",
        "t = np.random.rand(100, 10)\n",
        "grads = net.numerical_gradient(x, t)\n",
        "\n",
        "print(grads['W1'].shape)\n",
        "print(grads['b1'].shape)\n",
        "print(grads['W2'].shape)\n",
        "print(grads['b2'].shape)"
      ],
      "execution_count": 0,
      "outputs": [
        {
          "output_type": "stream",
          "text": [
            "(784, 100)\n",
            "(100,)\n",
            "(100, 10)\n",
            "(10,)\n"
          ],
          "name": "stdout"
        }
      ]
    },
    {
      "cell_type": "code",
      "metadata": {
        "id": "uJNCZANBX25p",
        "colab_type": "code",
        "outputId": "83122ebf-da5b-4697-d8a2-3494172c3111",
        "colab": {
          "base_uri": "https://localhost:8080/",
          "height": 51
        }
      },
      "source": [
        "# さらに時間がかかる…\n",
        "\n",
        "train_loss_list = []\n",
        "\n",
        "# ハイパーパラメータ\n",
        "iters_num = 10000\n",
        "train_size = x_train_normalized.shape[0]\n",
        "batch_size = 100\n",
        "learning_rate = 0.1\n",
        "\n",
        "network = TwoLayerNet(input_size=784, hidden_size=50, output_size=10)\n",
        "\n",
        "for i in range(iters_num):\n",
        "  batch_mask = np.random.choice(train_size, batch_size)\n",
        "  x_batch = x_train_normalized[batch_mask]\n",
        "  t_batch = y_train_onehot[batch_mask]\n",
        "  \n",
        "  grad = network.numerical_gradient(x_batch, t_batch)\n",
        "  \n",
        "  for key in ('W1', 'b1', 'W2', 'b2'):\n",
        "    network.params[key] -= learning_rate * grad[key]\n",
        "    \n",
        "  loss = network.loss(x_batch, t_batch)\n",
        "  train_loss_list.append(loss)"
      ],
      "execution_count": 0,
      "outputs": [
        {
          "output_type": "stream",
          "text": [
            "/usr/local/lib/python3.6/dist-packages/ipykernel_launcher.py:2: RuntimeWarning: overflow encountered in exp\n",
            "  \n"
          ],
          "name": "stderr"
        }
      ]
    },
    {
      "cell_type": "markdown",
      "metadata": {
        "id": "x6uFCAnGXZpZ",
        "colab_type": "text"
      },
      "source": [
        ""
      ]
    }
  ]
}